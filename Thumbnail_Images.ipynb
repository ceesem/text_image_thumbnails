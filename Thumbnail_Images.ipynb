{
 "cells": [
  {
   "cell_type": "markdown",
   "metadata": {},
   "source": [
    "## How to use\n",
    "\n",
    "This notebook is designed to take a spreadsheet in the `paper_data` folder where each row has a paper title, author list, and abstract, and generate a thumbnail image for each in the `thumbnail_images` directory. \n",
    "\n",
    "---\n",
    "\n",
    "#### Step 1\n",
    "\n",
    "Configure the following section to import the appropriate excel file (including sheet and column names, if necessary."
   ]
  },
  {
   "cell_type": "code",
   "execution_count": null,
   "metadata": {},
   "outputs": [],
   "source": [
    "sheet_filename = 'Japan Social Science Records.xlsx'\n",
    "\n",
    "sheet_number = 1\n",
    "title_column = 'Title'\n",
    "author_column = 'Author(s)' \n",
    "abstract_column = 'Abstract'"
   ]
  },
  {
   "cell_type": "markdown",
   "metadata": {},
   "source": [
    "#### Step 2\n",
    "Run both cells and look at the results in `thumbnail_images`. If you're not happy with the way it looks, the `thumbnail_image` function has a number of configuration options for padding, font choice, line spacing, and other things. Look at the docstring (i.e. type `thumbnail_image?`) for more info.\n",
    "\n",
    "If you want more or less words in the filenames, you can configure the number of words in it with the `max_words` parameter in the `simple_filename` function below."
   ]
  },
  {
   "cell_type": "code",
   "execution_count": null,
   "metadata": {},
   "outputs": [],
   "source": [
    "data_folder = 'paper_data'\n",
    "img_dir = 'thumbnail_images/'\n",
    "\n",
    "import pandas as pd\n",
    "import tqdm\n",
    "from src.thumbnail_maker import thumbnail_image, simple_filename\n",
    "\n",
    "sheet_data = pd.read_excel(f\"{data_folder}/{sheet_filename}\", sheet_name=sheet_number)\n",
    "title_list = sheet_data[title_column].tolist()\n",
    "author_list = sheet_data[author_column].tolist()\n",
    "abstract_list = sheet_data[abstract_column].tolist()"
   ]
  },
  {
   "cell_type": "code",
   "execution_count": null,
   "metadata": {},
   "outputs": [],
   "source": [
    "for title, authors, abstract in tqdm.tqdm(zip(title_list, author_list, abstract_list), total=len(title_list)):\n",
    "    img = thumbnail_image(title,\n",
    "                          authors,\n",
    "                          abstract,\n",
    "                          )\n",
    "\n",
    "    fname = simple_filename(title, img_dir, max_words=8)\n",
    "    img.save(fname, dpi=(150,150))"
   ]
  }
 ],
 "metadata": {
  "kernelspec": {
   "display_name": "jtstuff",
   "language": "python",
   "name": "jtstuff"
  },
  "language_info": {
   "codemirror_mode": {
    "name": "ipython",
    "version": 3
   },
   "file_extension": ".py",
   "mimetype": "text/x-python",
   "name": "python",
   "nbconvert_exporter": "python",
   "pygments_lexer": "ipython3",
   "version": "3.7.7"
  }
 },
 "nbformat": 4,
 "nbformat_minor": 4
}
